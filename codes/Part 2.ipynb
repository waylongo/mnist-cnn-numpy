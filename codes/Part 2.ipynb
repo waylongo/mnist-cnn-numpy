{
 "cells": [
  {
   "cell_type": "code",
   "execution_count": 1,
   "metadata": {},
   "outputs": [],
   "source": [
    "# ECE 8890 First Project Part 2\n",
    "# Wenlong Wu 14255109|\n",
    "\n",
    "import numpy as np\n",
    "import pandas as pd\n",
    "import matplotlib\n",
    "import matplotlib.pyplot as plt\n"
   ]
  },
  {
   "cell_type": "code",
   "execution_count": 2,
   "metadata": {},
   "outputs": [],
   "source": [
    "## define activation function\n",
    "def sigmoid(x, derive=False):\n",
    "    if derive:\n",
    "        return x * (1 - x)\n",
    "    return 1 / (1 + np.exp(-x))\n",
    "\n",
    "def tanh(x, derive=False):\n",
    "    if derive:\n",
    "        return (1 - x) * (1 + x)\n",
    "    return (np.exp(x) - np.exp(-x)) / (np.exp(x) + np.exp(-x))\n",
    "\n",
    "def relu(x, derive=False):\n",
    "    if derive:\n",
    "        return 1. * (x > 0)\n",
    "    return x * (x > 0)\n",
    "\n",
    "def see_kernel(k_w):\n",
    "    k_w = k_w[:-1,0].reshape([28, 28])\n",
    "    plt.imshow(k_w, cmap='gray' )"
   ]
  },
  {
   "cell_type": "code",
   "execution_count": 3,
   "metadata": {},
   "outputs": [],
   "source": [
    "from scipy.io import loadmat\n",
    "x = loadmat('Part2.mat')"
   ]
  },
  {
   "cell_type": "code",
   "execution_count": 4,
   "metadata": {},
   "outputs": [
    {
     "name": "stdout",
     "output_type": "stream",
     "text": [
      "Digit number 1 train shape is: (785, 17)\n",
      "Digit number 3 train shape is: (785, 17)\n",
      "Digit number 1 test shape is: (785, 50)\n",
      "Digit number 3 test shape is: (785, 50)\n"
     ]
    }
   ],
   "source": [
    "digit_1_train = x['Matrix1_Train']\n",
    "digit_3_train = x['Matrix3_Train']\n",
    "digit_1_test = x['Matrix1_Test']\n",
    "digit_3_test = x['Matrix3_Test']\n",
    "\n",
    "digit_1_train = np.concatenate((digit_1_train,np.ones([1, digit_1_train.shape[1]])), axis=0)\n",
    "digit_3_train = np.concatenate((digit_3_train,np.ones([1, digit_3_train.shape[1]])), axis=0)\n",
    "digit_1_test = np.concatenate((digit_1_test,np.ones([1, digit_1_test.shape[1]])), axis=0)\n",
    "digit_3_test = np.concatenate((digit_3_test,np.ones([1, digit_3_test.shape[1]])), axis=0)\n",
    "\n",
    "print('Digit number 1 train shape is: ' + str(digit_1_train.shape))\n",
    "print('Digit number 3 train shape is: ' + str(digit_3_train.shape))\n",
    "print('Digit number 1 test shape is: ' + str(digit_1_test.shape))\n",
    "print('Digit number 3 test shape is: ' + str(digit_1_test.shape))"
   ]
  },
  {
   "cell_type": "code",
   "execution_count": 5,
   "metadata": {},
   "outputs": [
    {
     "name": "stdout",
     "output_type": "stream",
     "text": [
      "Digit number 1 train label shape is: (2, 17)\n",
      "Digit number 3 train label shape is: (2, 17)\n",
      "Digit number 1 test label shape is: (2, 50)\n",
      "Digit number 3 test label shape is: (2, 50)\n"
     ]
    }
   ],
   "source": [
    "digit_1_train_label = np.concatenate((np.ones([1,digit_1_train.shape[1]]),np.zeros([1,digit_1_train.shape[1]])),axis=0)\n",
    "digit_3_train_label = np.concatenate((np.zeros([1,digit_3_train.shape[1]]),np.ones([1,digit_3_train.shape[1]])),axis=0)\n",
    "digit_1_test_label = np.concatenate((np.ones([1,digit_1_test.shape[1]]),np.zeros([1,digit_1_test.shape[1]])),axis=0)\n",
    "digit_3_test_label = np.concatenate((np.zeros([1,digit_3_test.shape[1]]),np.ones([1,digit_3_test.shape[1]])),axis=0)\n",
    "\n",
    "print('Digit number 1 train label shape is: ' + str(digit_1_train_label.shape))\n",
    "print('Digit number 3 train label shape is: ' + str(digit_3_train_label.shape))\n",
    "print('Digit number 1 test label shape is: ' + str(digit_1_test_label.shape))\n",
    "print('Digit number 3 test label shape is: ' + str(digit_3_test_label.shape))"
   ]
  },
  {
   "cell_type": "code",
   "execution_count": 6,
   "metadata": {},
   "outputs": [
    {
     "name": "stdout",
     "output_type": "stream",
     "text": [
      "Digit number 1 & 3 dataset x_train: train shape is (787, 34)\n",
      "Digit number 1 & 3 dataset x_test: test shape is (787, 100)\n"
     ]
    }
   ],
   "source": [
    "x_train_1 = np.concatenate((digit_1_train,digit_1_train_label),axis=0)\n",
    "x_train_3 = np.concatenate((digit_3_train,digit_3_train_label),axis=0)\n",
    "x_train = np.concatenate((x_train_1, x_train_3),axis=1)\n",
    "print('Digit number 1 & 3 dataset x_train: train shape is ' + str(x_train.shape) )\n",
    "\n",
    "x_test_1 = np.concatenate((digit_1_test,digit_1_test_label),axis=0)\n",
    "x_test_3 = np.concatenate((digit_3_test,digit_3_test_label),axis=0)\n",
    "x_test = np.concatenate((x_test_1, x_test_3),axis=1)\n",
    "print('Digit number 1 & 3 dataset x_test: test shape is ' + str(x_test.shape) )"
   ]
  },
  {
   "cell_type": "code",
   "execution_count": 7,
   "metadata": {},
   "outputs": [
    {
     "name": "stdout",
     "output_type": "stream",
     "text": [
      "First kernel weight shape is: (785, 1)\n",
      "Second kernel weight shape is: (785, 1)\n"
     ]
    }
   ],
   "source": [
    "# learning rate\n",
    "eta = 0.05\n",
    "\n",
    "# initialize weights with random numbers\n",
    "np.random.seed(2019)\n",
    "k1_w = np.random.normal(0,1,(28 * 28 + 1, 1)) * 1\n",
    "k2_w = np.random.normal(0,1,(28 * 28 + 1, 1)) * 1\n",
    "\n",
    "#k1_w = np.ones([28 * 28 + 1, 1])\n",
    "#k2_w = np.ones([28 * 28 + 1, 1])\n",
    "\n",
    "# mini-batch \n",
    "mini_batch = 1\n",
    "k1_w_tmp = np.zeros_like(k1_w)\n",
    "k2_w_tmp = np.zeros_like(k2_w)\n",
    "\n",
    "print('First kernel weight shape is: ' + str(k1_w.shape))\n",
    "print('Second kernel weight shape is: ' + str(k2_w.shape))"
   ]
  },
  {
   "cell_type": "code",
   "execution_count": 8,
   "metadata": {
    "scrolled": true
   },
   "outputs": [
    {
     "data": {
      "image/png": "[encoded data removed]",
      "text/plain": [
       "<Figure size 432x288 with 1 Axes>"
      ]
     },
     "metadata": {},
     "output_type": "display_data"
    }
   ],
   "source": [
    "epoch = 100\n",
    "err = np.zeros((epoch, 1))\n",
    "inds = np.arange(0,x_train.shape[1],1)\n",
    "\n",
    "for k in range(epoch):\n",
    "    \n",
    "    # init error\n",
    "    err[k] = 0\n",
    "    \n",
    "    # random shuffle of data each epoch \n",
    "    inds = np.random.permutation(inds)\n",
    "    for i in range(x_train.shape[1]):\n",
    "        \n",
    "        # random index\n",
    "        inx = inds[i]\n",
    "        \n",
    "        # forward pass\n",
    "        v = np.ones((2, 1))\n",
    "        v[0] = np.dot(x_train[:28*28+1,inx],k1_w)\n",
    "        v[1] = np.dot(x_train[:28*28+1,inx],k2_w)\n",
    "        o = np.reshape(sigmoid(v),[1,2])\n",
    "        \n",
    "        # error\n",
    "        err[k] = err[k] + np.sum(0.5 * (o - x_train[28*28+1:,inx]) ** 2)\n",
    "        \n",
    "        ## backprop <---\n",
    "        \n",
    "        # output layer\n",
    "        delta_1 = (-1.0) * (x_train[28*28+1:,inx] - o)\n",
    "        delta_2 = sigmoid(o, derive = True)\n",
    "        \n",
    "        # hidden layer\n",
    "        delta_hw = np.reshape(x_train[:28*28+1,inx],[-1,1]) * delta_1 * delta_2\n",
    "        \n",
    "        # weights save up\n",
    "        k1_w_tmp = k1_w_tmp + (-1.0) * eta * np.reshape(delta_hw[:,0],[28*28+1,1])\n",
    "        k2_w_tmp = k2_w_tmp + + (-1.0) * eta * np.reshape(delta_hw[:,1],[28*28+1,1])\n",
    "        \n",
    "        # update rule\n",
    "        if((k * x_train.shape[1] + i) % mini_batch == 0):\n",
    "            k1_w = k1_w + k1_w_tmp / mini_batch\n",
    "            k2_w = k2_w + k2_w_tmp / mini_batch\n",
    "            k1_w_tmp = np.zeros_like(k1_w_tmp)\n",
    "            k2_w_tmp = np.zeros_like(k2_w_tmp)\n",
    "    \n",
    "# plot it        \n",
    "fig = plt.figure()\n",
    "plt.plot(err)\n",
    "plt.title('error plot')\n",
    "plt.xlabel('epoch')\n",
    "plt.ylabel('error value')\n",
    "plt.show()\n",
    "fig.savefig('part2.png', dpi=fig.dpi)"
   ]
  },
  {
   "cell_type": "code",
   "execution_count": 9,
   "metadata": {},
   "outputs": [
    {
     "name": "stdout",
     "output_type": "stream",
     "text": [
      "33 out of 34 in the training set was labeled correctly\n"
     ]
    }
   ],
   "source": [
    "# Look at the training data\n",
    "train_acc = 0\n",
    "for i in range(x_train.shape[1]):\n",
    "\n",
    "    # forward pass\n",
    "    v = np.ones((2, 1))\n",
    "    v[0] = np.dot(x_train[:28*28+1,i],k1_w)\n",
    "    v[1] = np.dot(x_train[:28*28+1,i],k2_w)\n",
    "    o = np.reshape(sigmoid(v),[1,2])\n",
    "    oo = np.reshape(np.zeros([1,2]),[2,])\n",
    "    oo[np.argmax(o)] = 1\n",
    "    \n",
    "    #print(str(i) + \": produced: \" + str(o) + \" wanted \" + str(x_train[28*28+1:,i]))\n",
    "    if(np.array_equal(x_train[28*28+1:,i],oo)):\n",
    "        train_acc = train_acc + 1\n",
    "\n",
    "print(str(train_acc) + ' out of ' + str(x_train.shape[1]) + ' in the training set was labeled correctly')\n",
    "    "
   ]
  },
  {
   "cell_type": "code",
   "execution_count": 10,
   "metadata": {
    "scrolled": true
   },
   "outputs": [
    {
     "name": "stdout",
     "output_type": "stream",
     "text": [
      "77 out of 100 in the testing set was labeled correctly\n"
     ]
    }
   ],
   "source": [
    "# Look at the testing data\n",
    "test_acc = 0\n",
    "for i in range(x_test.shape[1]):\n",
    "\n",
    "    # forward pass\n",
    "    v = np.ones((2, 1))\n",
    "    v[0] = np.dot(x_test[:28*28+1,i],k1_w)\n",
    "    v[1] = np.dot(x_test[:28*28+1,i],k2_w)\n",
    "    o = np.reshape(sigmoid(v),[1,2])\n",
    "    \n",
    "    oo = np.reshape(np.zeros([1,2]),[2,])\n",
    "    oo[np.argmax(o)] = 1\n",
    "    #print(str(i) + \": produced: \" + str(oo) + \" wanted \" + str(x_test[28*28+1:,i]))\n",
    "    if(np.array_equal(x_test[28*28+1:,i],oo)):\n",
    "        test_acc = test_acc + 1\n",
    "\n",
    "print(str(test_acc) + ' out of ' + str(x_test.shape[1]) + ' in the testing set was labeled correctly')\n",
    "    "
   ]
  },
  {
   "cell_type": "markdown",
   "metadata": {},
   "source": [
    "---"
   ]
  },
  {
   "cell_type": "code",
   "execution_count": null,
   "metadata": {},
   "outputs": [],
   "source": []
  }
 ],
 "metadata": {
  "kernelspec": {
   "display_name": "Python 3",
   "language": "python",
   "name": "python3"
  },
  "language_info": {
   "codemirror_mode": {
    "name": "ipython",
    "version": 3
   },
   "file_extension": ".py",
   "mimetype": "text/x-python",
   "name": "python",
   "nbconvert_exporter": "python",
   "pygments_lexer": "ipython3",
   "version": "3.6.5"
  }
 },
 "nbformat": 4,
 "nbformat_minor": 2
}
