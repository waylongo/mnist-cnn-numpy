{
 "cells": [
  {
   "cell_type": "markdown",
   "metadata": {},
   "source": [
    "# Part 3"
   ]
  },
  {
   "cell_type": "code",
   "execution_count": 1,
   "metadata": {},
   "outputs": [],
   "source": [
    "# ECE 8890 First Project Part 3\n",
    "# Wenlong Wu 14255109|\n",
    "\n",
    "import numpy as np\n",
    "import pandas as pd\n",
    "import matplotlib\n",
    "import matplotlib.pyplot as plt\n"
   ]
  },
  {
   "cell_type": "code",
   "execution_count": 2,
   "metadata": {},
   "outputs": [],
   "source": [
    "## define activation function\n",
    "clipping_val = 0.05\n",
    "def sigmoid(x, derive=False): # the real sigmoid function\n",
    "    if derive:\n",
    "        tmp = x * (1 - x)  \n",
    "        x_der = (tmp > clipping_val) * tmp + (tmp < clipping_val) * clipping_val\n",
    "        return x_der\n",
    "    return 1 / (1 + np.exp(-x))\n",
    "\n",
    "def tanh(x, derive=False):\n",
    "    if derive:\n",
    "        return (1 - x) * (1 + x)\n",
    "    return (np.exp(x) - np.exp(-x)) / (np.exp(x) + np.exp(-x))\n",
    "\n",
    "def relu(x, derive=False):\n",
    "    if derive:\n",
    "        return 1. * (x > 0)\n",
    "    return x * (x > 0)\n",
    "\n",
    "def softmax(x):\n",
    "    \"\"\"Compute softmax values for each sets of scores in x.\"\"\"\n",
    "    e_x = np.exp(x - np.max(x))\n",
    "    return e_x / e_x.sum()\n",
    "\n",
    "def imshow(x):\n",
    "    pixels = x[:28*28].reshape((28, 28))\n",
    "    plt.imshow(pixels, cmap='gray')\n",
    "    plt.show()"
   ]
  },
  {
   "cell_type": "code",
   "execution_count": 3,
   "metadata": {},
   "outputs": [
    {
     "name": "stdout",
     "output_type": "stream",
     "text": [
      "Train data without bias shape is: (10, 784, 500)\n",
      "Test data without bias shape is: (10, 784, 500)\n"
     ]
    }
   ],
   "source": [
    "from scipy.io import loadmat\n",
    "x = loadmat('Part3.mat')\n",
    "\n",
    "TrainData = x['TrainData']\n",
    "TestData = x['TestData']\n",
    "print('Train data without bias shape is: ' + str(TrainData.shape))\n",
    "print('Test data without bias shape is: ' + str(TestData.shape))\n",
    "\n",
    "#TrainData = TrainData[:,:,:20] #overfit a small number of dataset to see if the code works\n",
    "#print('Train data without bias shape is: ' + str(TrainData.shape))"
   ]
  },
  {
   "cell_type": "code",
   "execution_count": 4,
   "metadata": {},
   "outputs": [
    {
     "name": "stdout",
     "output_type": "stream",
     "text": [
      "Train data with bias shape is: (10, 785, 500)\n",
      "Test data with bias shape is: (10, 785, 500)\n"
     ]
    }
   ],
   "source": [
    "train_bias = np.ones((TrainData.shape[0],1,TrainData.shape[2]))\n",
    "test_bias = np.ones((TestData.shape[0],1,TestData.shape[2]))\n",
    "TrainData = np.concatenate((TrainData,train_bias),axis=1)\n",
    "TestData = np.concatenate((TestData,test_bias),axis=1)\n",
    "print('Train data with bias shape is: ' + str(TrainData.shape))\n",
    "print('Test data with bias shape is: ' + str(TestData.shape))"
   ]
  },
  {
   "cell_type": "code",
   "execution_count": 5,
   "metadata": {},
   "outputs": [
    {
     "name": "stdout",
     "output_type": "stream",
     "text": [
      "Train data with bias, adding label shape is: (795, 10, 500)\n",
      "Test data with bias, adding label shape is: (795, 10, 500)\n"
     ]
    }
   ],
   "source": [
    "label = np.eye(10).reshape((10,10,1)) # ten digits, each one_hot vector\n",
    "train_label = np.repeat(label, repeats= TrainData.shape[2], axis=2) # 10 x 10 x 20\n",
    "test_label = np.repeat(label, repeats= TestData.shape[2], axis=2)\n",
    "\n",
    "TrainData = np.concatenate((TrainData,train_label),axis=1)\n",
    "TestData = np.concatenate((TestData,test_label),axis=1)\n",
    "TrainData = np.transpose(TrainData, axes=[1,0,2])\n",
    "TestData = np.transpose(TestData, axes=[1,0,2])\n",
    "print('Train data with bias, adding label shape is: ' + str(TrainData.shape))\n",
    "print('Test data with bias, adding label shape is: ' + str(TestData.shape))"
   ]
  },
  {
   "cell_type": "code",
   "execution_count": 6,
   "metadata": {},
   "outputs": [
    {
     "name": "stdout",
     "output_type": "stream",
     "text": [
      "Train data with bias, adding label, after reshaping shape is: (795, 5000)\n",
      "Test data with bias, adding label, after reshaping shape is: (795, 5000)\n"
     ]
    }
   ],
   "source": [
    "TrainData = np.reshape(TrainData,(TrainData.shape[0],-1))\n",
    "TestData = np.reshape(TestData,(TestData.shape[0],-1))\n",
    "print('Train data with bias, adding label, after reshaping shape is: ' + str(TrainData.shape))\n",
    "print('Test data with bias, adding label, after reshaping shape is: ' + str(TestData.shape))"
   ]
  },
  {
   "cell_type": "code",
   "execution_count": 7,
   "metadata": {},
   "outputs": [
    {
     "data": {
      "image/png": "[encoded data removed]",
      "text/plain": [
       "<Figure size 432x288 with 1 Axes>"
      ]
     },
     "metadata": {},
     "output_type": "display_data"
    },
    {
     "name": "stdout",
     "output_type": "stream",
     "text": [
      "[1. 0. 0. 0. 0. 0. 0. 0. 0. 0.]\n"
     ]
    }
   ],
   "source": [
    "# random select a number to see if the image match the label\n",
    "random_num = 177\n",
    "imshow(TrainData[:,random_num])\n",
    "print(TrainData[785:,random_num])"
   ]
  },
  {
   "cell_type": "markdown",
   "metadata": {},
   "source": [
    "-----"
   ]
  },
  {
   "cell_type": "code",
   "execution_count": 8,
   "metadata": {},
   "outputs": [
    {
     "name": "stdout",
     "output_type": "stream",
     "text": [
      "16 kernel weight shape is: (50, 16)\n",
      "First fully connected layer weight shape is: (7745, 10)\n"
     ]
    }
   ],
   "source": [
    "# initialize weights with random numbers\n",
    "np.random.seed(2019)\n",
    "kernel_size = 7\n",
    "kernel_num = 16\n",
    "k_w = np.random.normal(0,1,(kernel_size * kernel_size + 1, kernel_num)) * 0.01\n",
    "h1_w = np.random.normal(0,1,((28 - kernel_size + 1)*(28 - kernel_size + 1)*(kernel_num) + 1, 10)) * 0.01\n",
    "\n",
    "# mini-batch \n",
    "mini_batch = 1\n",
    "k_w_tmp = np.zeros_like(k_w)\n",
    "h1_w_tmp = np.zeros_like(h1_w)\n",
    "\n",
    "print('16 kernel weight shape is: ' + str(k_w.shape))\n",
    "print('First fully connected layer weight shape is: ' + str(h1_w.shape))"
   ]
  },
  {
   "cell_type": "code",
   "execution_count": 9,
   "metadata": {},
   "outputs": [
    {
     "data": {
      "text/plain": [
       "(50, 16)"
      ]
     },
     "execution_count": 9,
     "metadata": {},
     "output_type": "execute_result"
    }
   ],
   "source": [
    "k_w_tmp.shape"
   ]
  },
  {
   "cell_type": "code",
   "execution_count": 10,
   "metadata": {},
   "outputs": [
    {
     "data": {
      "image/png": "[encoded data removed]",
      "text/plain": [
       "<Figure size 720x432 with 16 Axes>"
      ]
     },
     "metadata": {},
     "output_type": "display_data"
    }
   ],
   "source": [
    "# look at the initial kernels\n",
    "fig, ax = plt.subplots(nrows=4, ncols=4, figsize=(10,6))\n",
    "k_w_start = np.reshape(k_w[:-1,:],[kernel_size,kernel_size,-1])\n",
    "n=0;\n",
    "for row in ax:\n",
    "    for col in row:\n",
    "        col.imshow(k_w_start[:,:,n], cmap='gray')\n",
    "        n=n+1\n",
    "\n",
    "plt.show()"
   ]
  },
  {
   "cell_type": "code",
   "execution_count": 11,
   "metadata": {},
   "outputs": [
    {
     "name": "stdout",
     "output_type": "stream",
     "text": [
      "The 1 epoch error is: [2925.70515212]\n",
      "The 2 epoch error is: [2108.42280469]\n",
      "The 3 epoch error is: [1548.82914976]\n",
      "The 4 epoch error is: [1191.34417287]\n",
      "The 5 epoch error is: [932.50783764]\n",
      "The 6 epoch error is: [798.71011545]\n",
      "The 7 epoch error is: [511.63759419]\n",
      "The 8 epoch error is: [435.49548877]\n",
      "The 9 epoch error is: [291.4005525]\n",
      "The 10 epoch error is: [206.28400883]\n",
      "The 11 epoch error is: [140.20081075]\n",
      "The 12 epoch error is: [74.78605338]\n",
      "The 13 epoch error is: [57.0226488]\n",
      "The 14 epoch error is: [21.02771583]\n",
      "The 15 epoch error is: [13.83309377]\n",
      "The 16 epoch error is: [11.30934197]\n",
      "The 17 epoch error is: [10.16345018]\n",
      "The 18 epoch error is: [9.3036983]\n",
      "The 19 epoch error is: [8.61720403]\n",
      "The 20 epoch error is: [8.17926319]\n",
      "The 21 epoch error is: [7.65058306]\n",
      "The 22 epoch error is: [7.24874386]\n",
      "The 23 epoch error is: [6.89763096]\n",
      "The 24 epoch error is: [6.60351349]\n",
      "The 25 epoch error is: [6.29517739]\n",
      "The 26 epoch error is: [6.01664005]\n",
      "The 27 epoch error is: [5.75569565]\n",
      "The 28 epoch error is: [5.51449461]\n",
      "The 29 epoch error is: [5.33135161]\n",
      "The 30 epoch error is: [5.14463992]\n",
      "The 31 epoch error is: [4.98843314]\n",
      "The 32 epoch error is: [4.82255889]\n",
      "The 33 epoch error is: [4.67637345]\n",
      "The 34 epoch error is: [4.53506199]\n",
      "The 35 epoch error is: [4.38858381]\n",
      "The 36 epoch error is: [4.26100252]\n",
      "The 37 epoch error is: [4.15402012]\n",
      "The 38 epoch error is: [4.04804524]\n",
      "The 39 epoch error is: [3.93895698]\n",
      "The 40 epoch error is: [3.82341687]\n",
      "The 41 epoch error is: [3.74026587]\n",
      "The 42 epoch error is: [3.64753962]\n",
      "The 43 epoch error is: [3.53825878]\n",
      "The 44 epoch error is: [3.49549491]\n",
      "The 45 epoch error is: [3.39709238]\n",
      "The 46 epoch error is: [3.32750209]\n",
      "The 47 epoch error is: [3.25607549]\n",
      "The 48 epoch error is: [3.19074045]\n",
      "The 49 epoch error is: [3.10901161]\n",
      "The 50 epoch error is: [3.05830881]\n"
     ]
    },
    {
     "data": {
      "image/png": "[encoded data removed]",
      "text/plain": [
       "<Figure size 432x288 with 1 Axes>"
      ]
     },
     "metadata": {},
     "output_type": "display_data"
    }
   ],
   "source": [
    "# learning rate\n",
    "eta = 0.01\n",
    "\n",
    "epoch = 50\n",
    "err = np.zeros((epoch, 1))\n",
    "err_test = np.zeros((epoch, 1))\n",
    "inds = np.arange(0,TrainData.shape[1],1)\n",
    "\n",
    "for k in range(epoch):\n",
    "    \n",
    "    # init error\n",
    "    err[k] = 0\n",
    "    \n",
    "    # random shuffle of data each epoch\n",
    "    inds = np.random.permutation(inds)\n",
    "    for i in range(TrainData.shape[1]):\n",
    "        \n",
    "        # random index\n",
    "        inx = inds[i]\n",
    "        \n",
    "        # one image\n",
    "        img = np.reshape(TrainData[:28*28, inx], [28, 28])\n",
    "        \n",
    "        # forwards pass        \n",
    "        # transform matrix C\n",
    "        C = np.ones((28 - kernel_size + 1, 28 - kernel_size + 1, kernel_size * kernel_size))\n",
    "\n",
    "        for m in range(kernel_size):\n",
    "            for n in range(kernel_size):\n",
    "                C[:,:,m * kernel_size + n] = img[m:m+(28 - kernel_size + 1),n:n+(28 - kernel_size + 1)]\n",
    "        C=np.concatenate((C, np.ones([28 - kernel_size + 1, 28 - kernel_size + 1,1])),axis=2)\n",
    "        \n",
    "        h = tanh(np.dot(C, k_w)) # 22 x 22 x 16\n",
    "        \n",
    "        h = np.reshape(h, [(28 - kernel_size + 1)*(28 - kernel_size + 1)*(kernel_num), 1])\n",
    "        h = np.concatenate((h,np.asarray([[1]])),axis=0)\n",
    "        #o = sigmoid(np.dot(h.T, h1_w))\n",
    "        o = softmax(np.dot(h.T, h1_w))\n",
    "        \n",
    "        # MSE error\n",
    "        #err[k] = err[k] + 0.5 * np.sum((o - TrainData[785:,inx]) ** 2)\n",
    "        \n",
    "        # cross entropy\n",
    "        err[k] = err[k] + (-1.0) * np.sum(TrainData[785:,inx] * np.log(o + 10 ** -8))\n",
    "        \n",
    "        # backprop < ---\n",
    "        \n",
    "        # output layer\n",
    "        delta_1 = (-1.0) * (TrainData[785:,inx] - o) # (1, 10)\n",
    "        #delta_2 = sigmoid(o, derive=True) # (1, 10), use if MSE\n",
    "        delta_2 = np.ones_like(delta_1) # cross entropy\n",
    "        \n",
    "        \n",
    "        # update the fully connected hidden layer\n",
    "        delta_hw = np.dot(h, delta_1 * delta_2)  # (22 * 22 * 16 + 1, 10)\n",
    "        \n",
    "        # update the convolutional kernel\n",
    "        delta_3 = tanh(h, derive=True) # (22 * 22 * 16 + 1, 1)\n",
    "        delta_kw_tmp = np.sum(np.dot(delta_3, delta_1 * delta_2) * h1_w,axis=1)[:-1].reshape([(28 - kernel_size + 1),(28 - kernel_size + 1),kernel_num])\n",
    "        delta_kw = np.dot(np.transpose(C,axes=[2,0,1]).reshape([k_w.shape[0],-1]), delta_kw_tmp.reshape([-1,kernel_num]))\n",
    "\n",
    "        # mini-batch tmp value \n",
    "        h1_w_tmp = h1_w_tmp + (-1.0) * eta * delta_hw # (22 * 22 * 16 + 1, 10)\n",
    "        k_w_tmp = k_w_tmp + (-1.0) * eta * delta_kw # (7 * 7 + 1, 16)\n",
    "        \n",
    "        # update rule\n",
    "        if((k * TrainData.shape[1] + i) % mini_batch == 0):\n",
    "            h1_w = h1_w + h1_w_tmp / mini_batch\n",
    "            k_w = k_w + k_w_tmp / mini_batch\n",
    "            h1_w_tmp = np.zeros_like(h1_w_tmp)\n",
    "            k_w_tmp = np.zeros_like(k_w_tmp)\n",
    "\n",
    "    print('The ' + str(k+1) + ' epoch error is: ' + str(err[k]))\n",
    "    \n",
    "        \n",
    "# plot it        \n",
    "fig = plt.figure()\n",
    "plt.plot(err)\n",
    "plt.title('error plot')\n",
    "plt.xlabel('epoch')\n",
    "plt.ylabel('error value')\n",
    "plt.show()\n",
    "fig.savefig('conv_10.png', dpi=fig.dpi)"
   ]
  },
  {
   "cell_type": "markdown",
   "metadata": {},
   "source": [
    "---"
   ]
  },
  {
   "cell_type": "code",
   "execution_count": 12,
   "metadata": {},
   "outputs": [
    {
     "name": "stdout",
     "output_type": "stream",
     "text": [
      "5000 out of 5000 in the training set was labeled correctly\n"
     ]
    }
   ],
   "source": [
    "# Look at the training data\n",
    "train_acc = 0\n",
    "for i in range(TrainData.shape[1]):\n",
    "\n",
    "    # one image\n",
    "    img = np.reshape(TrainData[:28*28, i], [28, 28])\n",
    "    #imshow(img)\n",
    "    # forwards pass        \n",
    "    # transform matrix C\n",
    "    C = np.ones((28 - kernel_size + 1, 28 - kernel_size + 1, kernel_size * kernel_size))\n",
    "    for m in range(kernel_size):\n",
    "        for n in range(kernel_size):\n",
    "            C[:,:,m * kernel_size + n] = img[m:m+(28 - kernel_size + 1),n:n+(28 - kernel_size + 1)]\n",
    "    C=np.concatenate((C, np.ones([28 - kernel_size + 1, 28 - kernel_size + 1,1])),axis=2)\n",
    "\n",
    "    h = tanh(np.dot(C, k_w)) # 22 x 22 x 16\n",
    "    #print(sum(sum(sum(h))))\n",
    "    \n",
    "    # hidden layer(s)\n",
    "    h = np.reshape(h, [(28 - kernel_size + 1)*(28 - kernel_size + 1)*(kernel_num), 1])\n",
    "    h = np.concatenate((h,np.asarray([[1]])),axis=0)\n",
    "    #o = sigmoid(np.dot(h.T, h1_w))\n",
    "    o = softmax(np.dot(h.T, h1_w))\n",
    "    oo = np.reshape(np.zeros([1,10]),[10,])\n",
    "    oo[np.argmax(o)] = 1\n",
    "        \n",
    "    #print(str(i) + \": produced: \" + str(o) + \" wanted \" + str(TrainData[785:,i]))\n",
    "    if(np.array_equal(TrainData[785:,i],oo)):\n",
    "        train_acc = train_acc + 1\n",
    "\n",
    "print(str(train_acc) + ' out of ' + str(TrainData.shape[1]) + ' in the training set was labeled correctly')\n",
    "    "
   ]
  },
  {
   "cell_type": "code",
   "execution_count": 13,
   "metadata": {},
   "outputs": [
    {
     "name": "stdout",
     "output_type": "stream",
     "text": [
      "4694 out of 5000 in the testing set was labeled correctly\n"
     ]
    }
   ],
   "source": [
    "# Look at the testing data\n",
    "test_acc = 0\n",
    "for i in range(TestData.shape[1]):\n",
    "\n",
    "    # one image\n",
    "    img = np.reshape(TestData[:28*28, i], [28, 28])\n",
    "    #imshow(img)\n",
    "    # forwards pass        \n",
    "    # transform matrix C\n",
    "    C = np.ones((28 - kernel_size + 1, 28 - kernel_size + 1, kernel_size * kernel_size))\n",
    "    for m in range(kernel_size):\n",
    "        for n in range(kernel_size):\n",
    "            C[:,:,m * kernel_size + n] = img[m:m+(28 - kernel_size + 1),n:n+(28 - kernel_size + 1)]\n",
    "    C=np.concatenate((C, np.ones([28 - kernel_size + 1, 28 - kernel_size + 1,1])),axis=2)\n",
    "\n",
    "    h = tanh(np.dot(C, k_w)) # 22 x 22 x 16\n",
    "    #print(sum(sum(sum(h))))\n",
    "    \n",
    "    # hidden layer(s)\n",
    "    h = np.reshape(h, [(28 - kernel_size + 1)*(28 - kernel_size + 1)*(kernel_num), 1])\n",
    "    h = np.concatenate((h,np.asarray([[1]])),axis=0)\n",
    "    #o = sigmoid(np.dot(h.T, h1_w))\n",
    "    o = softmax(np.dot(h.T, h1_w))\n",
    "    oo = np.reshape(np.zeros([1,10]),[10,])\n",
    "    oo[np.argmax(o)] = 1\n",
    "        \n",
    "    #print(str(i) + \": produced: \" + str(oo) + \" wanted \" + str(TestData[785:,i]))\n",
    "    if(np.array_equal(TestData[785:,i],oo)):\n",
    "        test_acc = test_acc + 1\n",
    "\n",
    "print(str(test_acc) + ' out of ' + str(TestData.shape[1]) + ' in the testing set was labeled correctly')\n",
    "    "
   ]
  },
  {
   "cell_type": "code",
   "execution_count": 15,
   "metadata": {},
   "outputs": [
    {
     "data": {
      "image/png": "[encoded data removed]",
      "text/plain": [
       "<Figure size 720x432 with 16 Axes>"
      ]
     },
     "metadata": {},
     "output_type": "display_data"
    }
   ],
   "source": [
    "# look at the final kernel\n",
    "k_w_final = k_w[:-1,:].reshape([7,7,16])\n",
    "fig, ax = plt.subplots(nrows=4, ncols=4, figsize=(10,6))\n",
    "\n",
    "n=0;\n",
    "for row in ax:\n",
    "    for col in row:\n",
    "        col.imshow(k_w_final[:,:,n], cmap='gray')\n",
    "        n=n+1\n",
    "\n",
    "plt.show()"
   ]
  },
  {
   "cell_type": "markdown",
   "metadata": {},
   "source": [
    "---"
   ]
  },
  {
   "cell_type": "markdown",
   "metadata": {},
   "source": [
    "# Part 4"
   ]
  },
  {
   "cell_type": "code",
   "execution_count": 21,
   "metadata": {},
   "outputs": [],
   "source": [
    "# deconvolution\n",
    "selected_img = 0\n",
    "img = np.reshape(TrainData[:28*28, selected_img], [28, 28])\n",
    "recovered_img = np.zeros([28, 28, 16])\n",
    "\n",
    "C = np.ones((28 - kernel_size + 1, 28 - kernel_size + 1, kernel_size * kernel_size))\n",
    "for m in range(kernel_size):\n",
    "    for n in range(kernel_size):\n",
    "        C[:,:,m * kernel_size + n] = img[m:m+(28 - kernel_size + 1),n:n+(28 - kernel_size + 1)]\n",
    "C=np.concatenate((C, np.ones([28 - kernel_size + 1, 28 - kernel_size + 1,1])),axis=2)\n",
    "\n",
    "h = relu(np.dot(C, k_w)) # 22 x 22 x 16\n",
    "\n",
    "for i in range(kernel_num):\n",
    "    for m in range(kernel_size):\n",
    "        for n in range(kernel_size):\n",
    "            recovered_img[m:m+22, n:n+22, i] = recovered_img[m:m+22, n:n+22, i] + h[:,:,i] * C[:,:,m * kernel_size + n] / (kernel_size ** 2)\n"
   ]
  },
  {
   "cell_type": "code",
   "execution_count": 22,
   "metadata": {},
   "outputs": [
    {
     "data": {
      "image/png": "[encoded data removed]",
      "text/plain": [
       "<Figure size 720x432 with 16 Axes>"
      ]
     },
     "metadata": {},
     "output_type": "display_data"
    }
   ],
   "source": [
    "# look at the de-convolution image\n",
    "fig, ax = plt.subplots(nrows=4, ncols=4, figsize=(10,6))\n",
    "\n",
    "n=0;\n",
    "for row in ax:\n",
    "    for col in row:\n",
    "        col.imshow(recovered_img[:,:,n])\n",
    "        n=n+1\n",
    "\n",
    "plt.show()"
   ]
  },
  {
   "cell_type": "code",
   "execution_count": null,
   "metadata": {},
   "outputs": [],
   "source": []
  },
  {
   "cell_type": "code",
   "execution_count": null,
   "metadata": {},
   "outputs": [],
   "source": []
  },
  {
   "cell_type": "code",
   "execution_count": null,
   "metadata": {},
   "outputs": [],
   "source": []
  },
  {
   "cell_type": "code",
   "execution_count": null,
   "metadata": {},
   "outputs": [],
   "source": []
  },
  {
   "cell_type": "code",
   "execution_count": null,
   "metadata": {},
   "outputs": [],
   "source": []
  },
  {
   "cell_type": "code",
   "execution_count": null,
   "metadata": {},
   "outputs": [],
   "source": []
  },
  {
   "cell_type": "code",
   "execution_count": null,
   "metadata": {},
   "outputs": [],
   "source": []
  },
  {
   "cell_type": "code",
   "execution_count": null,
   "metadata": {},
   "outputs": [],
   "source": []
  },
  {
   "cell_type": "code",
   "execution_count": null,
   "metadata": {},
   "outputs": [],
   "source": []
  }
 ],
 "metadata": {
  "kernelspec": {
   "display_name": "Python 3",
   "language": "python",
   "name": "python3"
  },
  "language_info": {
   "codemirror_mode": {
    "name": "ipython",
    "version": 3
   },
   "file_extension": ".py",
   "mimetype": "text/x-python",
   "name": "python",
   "nbconvert_exporter": "python",
   "pygments_lexer": "ipython3",
   "version": "3.6.5"
  }
 },
 "nbformat": 4,
 "nbformat_minor": 2
}
