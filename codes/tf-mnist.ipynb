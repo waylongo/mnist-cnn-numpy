{
 "cells": [
  {
   "cell_type": "code",
   "execution_count": 1,
   "metadata": {},
   "outputs": [
    {
     "name": "stderr",
     "output_type": "stream",
     "text": [
      "C:\\Users\\ww6p9\\AppData\\Local\\Continuum\\anaconda3\\lib\\site-packages\\h5py\\__init__.py:36: FutureWarning: Conversion of the second argument of issubdtype from `float` to `np.floating` is deprecated. In future, it will be treated as `np.float64 == np.dtype(float).type`.\n",
      "  from ._conv import register_converters as _register_converters\n",
      "Using TensorFlow backend.\n"
     ]
    }
   ],
   "source": [
    "import numpy\n",
    "from keras.datasets import mnist\n",
    "from keras.models import Sequential\n",
    "from keras.layers import Dense\n",
    "from keras.layers import Dropout\n",
    "from keras.layers import Flatten\n",
    "from keras.layers.convolutional import Conv2D\n",
    "from keras.utils import np_utils\n",
    "from keras import backend as K\n",
    "import time\n",
    "K.set_image_dim_ordering('th')"
   ]
  },
  {
   "cell_type": "code",
   "execution_count": 2,
   "metadata": {},
   "outputs": [],
   "source": [
    "# fix random seed for reproducibility\n",
    "seed = 2019\n",
    "numpy.random.seed(seed)"
   ]
  },
  {
   "cell_type": "code",
   "execution_count": 3,
   "metadata": {},
   "outputs": [],
   "source": [
    "# load data\n",
    "(X_train, y_train), (X_test, y_test) = mnist.load_data()\n",
    "# reshape to be [samples][pixels][width][height]\n",
    "X_train = X_train.reshape(X_train.shape[0], 1, 28, 28).astype('float32')\n",
    "X_test = X_test.reshape(X_test.shape[0], 1, 28, 28).astype('float32')"
   ]
  },
  {
   "cell_type": "code",
   "execution_count": 4,
   "metadata": {},
   "outputs": [],
   "source": [
    "# normalize inputs from 0-255 to 0-1\n",
    "X_train = X_train / 255\n",
    "X_test = X_test / 255\n",
    "# one hot encode outputs\n",
    "y_train = np_utils.to_categorical(y_train)\n",
    "y_test = np_utils.to_categorical(y_test)\n",
    "num_classes = y_test.shape[1]"
   ]
  },
  {
   "cell_type": "code",
   "execution_count": 5,
   "metadata": {},
   "outputs": [],
   "source": [
    "def baseline_model():\n",
    "    # create model\n",
    "    model = Sequential()\n",
    "    model.add(Conv2D(16, (7, 7), input_shape=(1, 28, 28), activation='relu'))\n",
    "    model.add(Flatten())\n",
    "    #model.add(Dense(128, activation='relu'))\n",
    "    model.add(Dense(num_classes, activation='softmax'))\n",
    "    # Compile model\n",
    "    model.compile(loss='categorical_crossentropy', optimizer='sgd', metrics=['accuracy'])\n",
    "    return model"
   ]
  },
  {
   "cell_type": "code",
   "execution_count": 6,
   "metadata": {},
   "outputs": [
    {
     "name": "stdout",
     "output_type": "stream",
     "text": [
      "Train on 60000 samples, validate on 10000 samples\n",
      "Epoch 1/50\n",
      " - 175s - loss: 0.1289 - acc: 0.9612 - val_loss: 0.0641 - val_acc: 0.9789\n",
      "Epoch 2/50\n",
      " - 174s - loss: 0.0569 - acc: 0.9825 - val_loss: 0.0677 - val_acc: 0.9789\n",
      "Epoch 3/50\n",
      " - 175s - loss: 0.0425 - acc: 0.9864 - val_loss: 0.0538 - val_acc: 0.9836\n",
      "Epoch 4/50\n",
      " - 175s - loss: 0.0313 - acc: 0.9904 - val_loss: 0.0649 - val_acc: 0.9820\n",
      "Epoch 5/50\n",
      " - 175s - loss: 0.0243 - acc: 0.9920 - val_loss: 0.0551 - val_acc: 0.9845\n",
      "Epoch 6/50\n",
      " - 175s - loss: 0.0198 - acc: 0.9936 - val_loss: 0.0591 - val_acc: 0.9839\n",
      "Epoch 7/50\n",
      " - 174s - loss: 0.0145 - acc: 0.9953 - val_loss: 0.0581 - val_acc: 0.9847\n",
      "Epoch 8/50\n",
      " - 175s - loss: 0.0112 - acc: 0.9962 - val_loss: 0.0786 - val_acc: 0.9803\n",
      "Epoch 9/50\n",
      " - 181s - loss: 0.0095 - acc: 0.9971 - val_loss: 0.0611 - val_acc: 0.9855\n",
      "Epoch 10/50\n",
      " - 184s - loss: 0.0070 - acc: 0.9980 - val_loss: 0.0745 - val_acc: 0.9825\n",
      "Epoch 11/50\n",
      " - 176s - loss: 0.0052 - acc: 0.9986 - val_loss: 0.0598 - val_acc: 0.9867\n",
      "Epoch 12/50\n",
      " - 174s - loss: 0.0032 - acc: 0.9992 - val_loss: 0.0666 - val_acc: 0.9865\n",
      "Epoch 13/50\n",
      " - 177s - loss: 0.0024 - acc: 0.9994 - val_loss: 0.0602 - val_acc: 0.9873\n",
      "Epoch 14/50\n",
      " - 180s - loss: 0.0017 - acc: 0.9997 - val_loss: 0.0591 - val_acc: 0.9873\n",
      "Epoch 15/50\n",
      " - 179s - loss: 9.6519e-04 - acc: 1.0000 - val_loss: 0.0598 - val_acc: 0.9872\n",
      "Epoch 16/50\n",
      " - 178s - loss: 7.6861e-04 - acc: 1.0000 - val_loss: 0.0611 - val_acc: 0.9868\n",
      "Epoch 17/50\n",
      " - 176s - loss: 7.2403e-04 - acc: 1.0000 - val_loss: 0.0612 - val_acc: 0.9872\n",
      "Epoch 18/50\n",
      " - 176s - loss: 6.9679e-04 - acc: 1.0000 - val_loss: 0.0616 - val_acc: 0.9871\n",
      "Epoch 19/50\n",
      " - 173s - loss: 6.8139e-04 - acc: 1.0000 - val_loss: 0.0625 - val_acc: 0.9869\n",
      "Epoch 20/50\n",
      " - 173s - loss: 6.7127e-04 - acc: 1.0000 - val_loss: 0.0623 - val_acc: 0.9870\n",
      "Epoch 21/50\n",
      " - 173s - loss: 6.5960e-04 - acc: 1.0000 - val_loss: 0.0627 - val_acc: 0.9872\n",
      "Epoch 22/50\n",
      " - 174s - loss: 6.5369e-04 - acc: 1.0000 - val_loss: 0.0632 - val_acc: 0.9871\n",
      "Epoch 23/50\n",
      " - 173s - loss: 6.4747e-04 - acc: 1.0000 - val_loss: 0.0638 - val_acc: 0.9870\n",
      "Epoch 24/50\n",
      " - 179s - loss: 6.4121e-04 - acc: 1.0000 - val_loss: 0.0646 - val_acc: 0.9867\n",
      "Epoch 25/50\n",
      " - 175s - loss: 6.3587e-04 - acc: 1.0000 - val_loss: 0.0644 - val_acc: 0.9869\n",
      "Epoch 26/50\n",
      " - 176s - loss: 6.3159e-04 - acc: 1.0000 - val_loss: 0.0646 - val_acc: 0.9870\n",
      "Epoch 27/50\n",
      " - 182s - loss: 6.2755e-04 - acc: 1.0000 - val_loss: 0.0646 - val_acc: 0.9872\n",
      "Epoch 28/50\n",
      " - 181s - loss: 6.2367e-04 - acc: 1.0000 - val_loss: 0.0651 - val_acc: 0.9870\n",
      "Epoch 29/50\n",
      " - 178s - loss: 6.2053e-04 - acc: 1.0000 - val_loss: 0.0652 - val_acc: 0.9870\n",
      "Epoch 30/50\n",
      " - 177s - loss: 6.1776e-04 - acc: 1.0000 - val_loss: 0.0658 - val_acc: 0.9872\n",
      "Epoch 31/50\n",
      " - 174s - loss: 6.1449e-04 - acc: 1.0000 - val_loss: 0.0660 - val_acc: 0.9871\n",
      "Epoch 32/50\n",
      " - 175s - loss: 6.1187e-04 - acc: 1.0000 - val_loss: 0.0660 - val_acc: 0.9871\n",
      "Epoch 33/50\n",
      " - 174s - loss: 6.0953e-04 - acc: 1.0000 - val_loss: 0.0663 - val_acc: 0.9872\n",
      "Epoch 34/50\n",
      " - 175s - loss: 6.0682e-04 - acc: 1.0000 - val_loss: 0.0661 - val_acc: 0.9871\n",
      "Epoch 35/50\n",
      " - 179s - loss: 6.0546e-04 - acc: 1.0000 - val_loss: 0.0667 - val_acc: 0.9872\n",
      "Epoch 36/50\n",
      " - 179s - loss: 6.0326e-04 - acc: 1.0000 - val_loss: 0.0668 - val_acc: 0.9872\n",
      "Epoch 37/50\n",
      " - 176s - loss: 6.0118e-04 - acc: 1.0000 - val_loss: 0.0670 - val_acc: 0.9872\n",
      "Epoch 38/50\n",
      " - 174s - loss: 5.9928e-04 - acc: 1.0000 - val_loss: 0.0671 - val_acc: 0.9872\n",
      "Epoch 39/50\n",
      " - 173s - loss: 5.9789e-04 - acc: 1.0000 - val_loss: 0.0674 - val_acc: 0.9872\n",
      "Epoch 40/50\n",
      " - 179s - loss: 5.9612e-04 - acc: 1.0000 - val_loss: 0.0678 - val_acc: 0.9872\n",
      "Epoch 41/50\n",
      " - 174s - loss: 5.9476e-04 - acc: 1.0000 - val_loss: 0.0677 - val_acc: 0.9872\n",
      "Epoch 42/50\n",
      " - 175s - loss: 5.9315e-04 - acc: 1.0000 - val_loss: 0.0679 - val_acc: 0.9874\n",
      "Epoch 43/50\n",
      " - 174s - loss: 5.9230e-04 - acc: 1.0000 - val_loss: 0.0679 - val_acc: 0.9873\n",
      "Epoch 44/50\n",
      " - 174s - loss: 5.9097e-04 - acc: 1.0000 - val_loss: 0.0680 - val_acc: 0.9873\n",
      "Epoch 45/50\n",
      " - 175s - loss: 5.8969e-04 - acc: 1.0000 - val_loss: 0.0682 - val_acc: 0.9872\n",
      "Epoch 46/50\n",
      " - 174s - loss: 5.8849e-04 - acc: 1.0000 - val_loss: 0.0684 - val_acc: 0.9872\n",
      "Epoch 47/50\n",
      " - 174s - loss: 5.8748e-04 - acc: 1.0000 - val_loss: 0.0684 - val_acc: 0.9872\n",
      "Epoch 48/50\n",
      " - 174s - loss: 5.8630e-04 - acc: 1.0000 - val_loss: 0.0689 - val_acc: 0.9873\n",
      "Epoch 49/50\n",
      " - 174s - loss: 5.8541e-04 - acc: 1.0000 - val_loss: 0.0690 - val_acc: 0.9872\n",
      "Epoch 50/50\n",
      " - 173s - loss: 5.8453e-04 - acc: 1.0000 - val_loss: 0.0690 - val_acc: 0.9872\n",
      "8793.226562023163\n"
     ]
    }
   ],
   "source": [
    "# build the model\n",
    "start = time.time()\n",
    "model = baseline_model()\n",
    "# Fit the model\n",
    "model.fit(X_train, y_train, validation_data=(X_test, y_test), epochs=50, batch_size=1, verbose=2)\n",
    "\n",
    "end=time.time()\n",
    "print(end-start)"
   ]
  },
  {
   "cell_type": "code",
   "execution_count": 7,
   "metadata": {},
   "outputs": [
    {
     "name": "stdout",
     "output_type": "stream",
     "text": [
      "CNN Error: 1.28%\n"
     ]
    }
   ],
   "source": [
    "# Final evaluation of the model\n",
    "scores = model.evaluate(X_test, y_test, verbose=0)\n",
    "print(\"CNN Error: %.2f%%\" % (100-scores[1]*100))"
   ]
  },
  {
   "cell_type": "markdown",
   "metadata": {},
   "source": [
    "# The result matches the result of Numpy version! 98.72% testing accuracy"
   ]
  },
  {
   "cell_type": "code",
   "execution_count": null,
   "metadata": {},
   "outputs": [],
   "source": []
  },
  {
   "cell_type": "code",
   "execution_count": null,
   "metadata": {},
   "outputs": [],
   "source": []
  },
  {
   "cell_type": "code",
   "execution_count": null,
   "metadata": {},
   "outputs": [],
   "source": []
  },
  {
   "cell_type": "code",
   "execution_count": null,
   "metadata": {},
   "outputs": [],
   "source": []
  },
  {
   "cell_type": "code",
   "execution_count": null,
   "metadata": {},
   "outputs": [],
   "source": []
  },
  {
   "cell_type": "code",
   "execution_count": null,
   "metadata": {},
   "outputs": [],
   "source": []
  },
  {
   "cell_type": "code",
   "execution_count": null,
   "metadata": {},
   "outputs": [],
   "source": []
  },
  {
   "cell_type": "code",
   "execution_count": null,
   "metadata": {},
   "outputs": [],
   "source": []
  },
  {
   "cell_type": "code",
   "execution_count": null,
   "metadata": {},
   "outputs": [],
   "source": []
  }
 ],
 "metadata": {
  "kernelspec": {
   "display_name": "Python 3",
   "language": "python",
   "name": "python3"
  },
  "language_info": {
   "codemirror_mode": {
    "name": "ipython",
    "version": 3
   },
   "file_extension": ".py",
   "mimetype": "text/x-python",
   "name": "python",
   "nbconvert_exporter": "python",
   "pygments_lexer": "ipython3",
   "version": "3.6.5"
  }
 },
 "nbformat": 4,
 "nbformat_minor": 2
}
