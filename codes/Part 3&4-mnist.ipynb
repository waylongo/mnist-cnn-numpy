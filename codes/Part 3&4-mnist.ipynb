{
 "cells": [
  {
   "cell_type": "markdown",
   "metadata": {},
   "source": [
    "# Part 3"
   ]
  },
  {
   "cell_type": "code",
   "execution_count": 1,
   "metadata": {},
   "outputs": [
    {
     "name": "stderr",
     "output_type": "stream",
     "text": [
      "C:\\Users\\ww6p9\\AppData\\Local\\Continuum\\anaconda3\\lib\\site-packages\\h5py\\__init__.py:36: FutureWarning: Conversion of the second argument of issubdtype from `float` to `np.floating` is deprecated. In future, it will be treated as `np.float64 == np.dtype(float).type`.\n",
      "  from ._conv import register_converters as _register_converters\n"
     ]
    }
   ],
   "source": [
    "# ECE 8890 First Project Part 3\n",
    "# Wenlong Wu 14255109|\n",
    "\n",
    "import numpy as np\n",
    "import pandas as pd\n",
    "import matplotlib\n",
    "import matplotlib.pyplot as plt\n",
    "import tensorflow as tf"
   ]
  },
  {
   "cell_type": "code",
   "execution_count": 2,
   "metadata": {},
   "outputs": [],
   "source": [
    "## define activation function\n",
    "clipping_val = 0.05\n",
    "def sigmoid(x, derive=False): # the real sigmoid function\n",
    "    if derive:\n",
    "        tmp = x * (1 - x)  \n",
    "        x_der = (tmp > clipping_val) * tmp + (tmp < clipping_val) * clipping_val\n",
    "        return x_der\n",
    "    return 1 / (1 + np.exp(-x))\n",
    "\n",
    "def tanh(x, derive=False):\n",
    "    if derive:\n",
    "        return (1 - x) * (1 + x)\n",
    "    return (np.exp(x) - np.exp(-x)) / (np.exp(x) + np.exp(-x))\n",
    "\n",
    "def relu(x, derive=False):\n",
    "    if derive:\n",
    "        return 1. * (x > 0)\n",
    "    return x * (x > 0)\n",
    "\n",
    "def softmax(x):\n",
    "    \"\"\"Compute softmax values for each sets of scores in x.\"\"\"\n",
    "    e_x = np.exp(x - np.max(x))\n",
    "    return e_x / e_x.sum()\n",
    "\n",
    "def imshow(x):\n",
    "    pixels = x[:28*28].reshape((28, 28))\n",
    "    plt.imshow(pixels, cmap='gray')\n",
    "    plt.show()"
   ]
  },
  {
   "cell_type": "code",
   "execution_count": 3,
   "metadata": {},
   "outputs": [
    {
     "name": "stdout",
     "output_type": "stream",
     "text": [
      "MNIST Train data shape is: (60000, 28, 28)\n",
      "MNIST Train data shape is: (60000,)\n",
      "MNIST Test data shape is: (10000, 28, 28)\n",
      "MNIST Test data shape is: (10000,)\n"
     ]
    }
   ],
   "source": [
    "(x_train, y_train), (x_test, y_test) = tf.keras.datasets.mnist.load_data()\n",
    "N_train = x_train.shape[0] # total number of training examples\n",
    "N_test = x_test.shape[0] # total number of testing examples\n",
    "\n",
    "print('MNIST Train data shape is: ' + str(x_train.shape))\n",
    "print('MNIST Train data shape is: ' + str(y_train.shape))\n",
    "print('MNIST Test data shape is: ' + str(x_test.shape))\n",
    "print('MNIST Test data shape is: ' + str(y_test.shape))"
   ]
  },
  {
   "cell_type": "code",
   "execution_count": 4,
   "metadata": {},
   "outputs": [
    {
     "name": "stdout",
     "output_type": "stream",
     "text": [
      "x_train shape is: (785, 60000)\n",
      "x_train_label shape is: (10, 60000)\n",
      "x_test shape is: (785, 10000)\n",
      "x_test_label shape is: (10, 10000)\n"
     ]
    }
   ],
   "source": [
    "x_train = np.concatenate((x_train.transpose([1,2,0]).reshape([-1,N_train]),np.ones([1,N_train])),axis=0)\n",
    "x_test = np.concatenate((x_test.transpose([1,2,0]).reshape([-1,N_test]),np.ones([1,N_test])),axis=0)\n",
    "\n",
    "#y_train, y_test\n",
    "x_train_label = np.zeros((N_train, 10))\n",
    "x_test_label = np.zeros((N_test, 10))\n",
    "x_train_label[np.arange(N_train), y_train] = 1\n",
    "x_test_label[np.arange(N_test), y_test] = 1\n",
    "\n",
    "print('x_train shape is: ' + str(x_train.shape))\n",
    "print('x_train_label shape is: ' + str(x_train_label.T.shape))\n",
    "print('x_test shape is: ' + str(x_test.shape))\n",
    "print('x_test_label shape is: ' + str(x_test_label.T.shape))"
   ]
  },
  {
   "cell_type": "code",
   "execution_count": 5,
   "metadata": {},
   "outputs": [
    {
     "name": "stdout",
     "output_type": "stream",
     "text": [
      "TrainData shape is: (795, 60000)\n",
      "TestData shape is: (795, 10000)\n"
     ]
    }
   ],
   "source": [
    "x_train = x_train / 255\n",
    "x_test = x_test / 255\n",
    "\n",
    "TrainData = np.concatenate((x_train,x_train_label.T), axis=0)\n",
    "TestData = np.concatenate((x_test,x_test_label.T), axis=0)\n",
    "print('TrainData shape is: ' + str(TrainData.shape))\n",
    "print('TestData shape is: ' + str(TestData.shape))\n",
    "\n",
    "#TrainData = TrainData[:,:1000]\n",
    "#print('Tmp TrainData shape is: ' + str(TrainData.shape))"
   ]
  },
  {
   "cell_type": "code",
   "execution_count": 6,
   "metadata": {},
   "outputs": [
    {
     "data": {
      "image/png": "[encoded data removed]",
      "text/plain": [
       "<Figure size 432x288 with 1 Axes>"
      ]
     },
     "metadata": {},
     "output_type": "display_data"
    },
    {
     "name": "stdout",
     "output_type": "stream",
     "text": [
      "[0. 0. 0. 0. 0. 0. 0. 0. 1. 0.]\n"
     ]
    }
   ],
   "source": [
    "# random select a number to see if the image match the label\n",
    "random_num = 17\n",
    "imshow(TrainData[:,random_num])\n",
    "print(TrainData[785:,random_num])"
   ]
  },
  {
   "cell_type": "markdown",
   "metadata": {},
   "source": [
    "-----"
   ]
  },
  {
   "cell_type": "code",
   "execution_count": 7,
   "metadata": {},
   "outputs": [
    {
     "name": "stdout",
     "output_type": "stream",
     "text": [
      "16 kernel weight shape is: (50, 16)\n",
      "First fully connected layer weight shape is: (7745, 10)\n"
     ]
    }
   ],
   "source": [
    "# initialize weights with random numbers\n",
    "np.random.seed(2019)\n",
    "kernel_size = 7\n",
    "kernel_num = 16\n",
    "k_w = np.random.normal(0,1,(kernel_size * kernel_size + 1, kernel_num)) * 0.01\n",
    "h1_w = np.random.normal(0,1,((28 - kernel_size + 1)*(28 - kernel_size + 1)*(kernel_num) + 1, 10)) * 0.01\n",
    "\n",
    "# mini-batch \n",
    "mini_batch = 1\n",
    "k_w_tmp = np.zeros_like(k_w)\n",
    "h1_w_tmp = np.zeros_like(h1_w)\n",
    "\n",
    "print('16 kernel weight shape is: ' + str(k_w.shape))\n",
    "print('First fully connected layer weight shape is: ' + str(h1_w.shape))"
   ]
  },
  {
   "cell_type": "code",
   "execution_count": 8,
   "metadata": {},
   "outputs": [
    {
     "data": {
      "image/png": "[encoded data removed]",
      "text/plain": [
       "<Figure size 720x432 with 16 Axes>"
      ]
     },
     "metadata": {},
     "output_type": "display_data"
    }
   ],
   "source": [
    "# look at the initial kernels\n",
    "fig, ax = plt.subplots(nrows=4, ncols=4, figsize=(10,6))\n",
    "k_w_start = np.reshape(k_w[:-1,:],[kernel_size,kernel_size,-1])\n",
    "n=0;\n",
    "for row in ax:\n",
    "    for col in row:\n",
    "        col.imshow(k_w_start[:,:,n], cmap='gray')\n",
    "        n=n+1\n",
    "\n",
    "plt.show()"
   ]
  },
  {
   "cell_type": "code",
   "execution_count": 9,
   "metadata": {},
   "outputs": [
    {
     "name": "stdout",
     "output_type": "stream",
     "text": [
      "The 1 epoch error is: [8248.43124261]\n",
      "The 2 epoch error is: [3656.45882428]\n",
      "The 3 epoch error is: [2598.59451109]\n",
      "The 4 epoch error is: [1952.96360897]\n",
      "The 5 epoch error is: [1575.89042878]\n",
      "The 6 epoch error is: [1251.05724421]\n",
      "The 7 epoch error is: [1045.03205442]\n",
      "The 8 epoch error is: [706.39663361]\n",
      "The 9 epoch error is: [504.03864289]\n",
      "The 10 epoch error is: [391.52412176]\n",
      "The 11 epoch error is: [294.13446395]\n",
      "The 12 epoch error is: [245.99856668]\n",
      "The 13 epoch error is: [198.62323449]\n",
      "The 14 epoch error is: [122.1061867]\n",
      "The 15 epoch error is: [68.26515156]\n",
      "The 16 epoch error is: [54.15667398]\n",
      "The 17 epoch error is: [15.43037583]\n",
      "The 18 epoch error is: [10.57585135]\n",
      "The 19 epoch error is: [8.83153591]\n",
      "The 20 epoch error is: [7.8968095]\n",
      "The 21 epoch error is: [7.29653557]\n",
      "The 22 epoch error is: [6.79280079]\n",
      "The 23 epoch error is: [6.38478492]\n",
      "The 24 epoch error is: [6.05340824]\n",
      "The 25 epoch error is: [5.74383572]\n",
      "The 26 epoch error is: [5.45190194]\n",
      "The 27 epoch error is: [5.23027753]\n",
      "The 28 epoch error is: [4.98502731]\n",
      "The 29 epoch error is: [4.81926791]\n",
      "The 30 epoch error is: [4.61259791]\n",
      "The 31 epoch error is: [4.4296914]\n",
      "The 32 epoch error is: [4.30738893]\n",
      "The 33 epoch error is: [4.16223682]\n",
      "The 34 epoch error is: [4.04831561]\n",
      "The 35 epoch error is: [3.91306928]\n",
      "The 36 epoch error is: [3.79459868]\n",
      "The 37 epoch error is: [3.69828895]\n",
      "The 38 epoch error is: [3.59577029]\n",
      "The 39 epoch error is: [3.50880511]\n",
      "The 40 epoch error is: [3.39576618]\n",
      "The 41 epoch error is: [3.32733857]\n",
      "The 42 epoch error is: [3.24433151]\n",
      "The 43 epoch error is: [3.1633616]\n",
      "The 44 epoch error is: [3.10993557]\n",
      "The 45 epoch error is: [3.03630756]\n",
      "The 46 epoch error is: [2.96035821]\n",
      "The 47 epoch error is: [2.89762419]\n",
      "The 48 epoch error is: [2.83830915]\n",
      "The 49 epoch error is: [2.78223172]\n",
      "The 50 epoch error is: [2.7252943]\n"
     ]
    },
    {
     "data": {
      "image/png": "[encoded data removed]",
      "text/plain": [
       "<Figure size 432x288 with 1 Axes>"
      ]
     },
     "metadata": {},
     "output_type": "display_data"
    }
   ],
   "source": [
    "# learning rate\n",
    "eta = 0.01\n",
    "\n",
    "epoch = 50\n",
    "err = np.zeros((epoch, 1))\n",
    "inds = np.arange(0,TrainData.shape[1],1)\n",
    "\n",
    "for k in range(epoch):\n",
    "    \n",
    "    # init error\n",
    "    err[k] = 0\n",
    "    \n",
    "    # random shuffle of data each epoch\n",
    "    inds = np.random.permutation(inds)\n",
    "    for i in range(TrainData.shape[1]):\n",
    "        \n",
    "        # random index\n",
    "        inx = inds[i]\n",
    "        \n",
    "        # one image\n",
    "        img = np.reshape(TrainData[:28*28, inx], [28, 28])\n",
    "        \n",
    "        # forwards pass        \n",
    "        # transform matrix C\n",
    "        C = np.ones((28 - kernel_size + 1, 28 - kernel_size + 1, kernel_size * kernel_size))\n",
    "\n",
    "        for m in range(kernel_size):\n",
    "            for n in range(kernel_size):\n",
    "                C[:,:,m * kernel_size + n] = img[m:m+(28 - kernel_size + 1),n:n+(28 - kernel_size + 1)]\n",
    "        C=np.concatenate((C, np.ones([28 - kernel_size + 1, 28 - kernel_size + 1,1])),axis=2)\n",
    "        \n",
    "        h = relu(np.dot(C, k_w)) # 22 x 22 x 16\n",
    "        \n",
    "        h = np.reshape(h, [(28 - kernel_size + 1)*(28 - kernel_size + 1)*(kernel_num), 1])\n",
    "        h = np.concatenate((h,np.asarray([[1]])),axis=0)\n",
    "        #o = sigmoid(np.dot(h.T, h1_w))\n",
    "        o = softmax(np.dot(h.T, h1_w))\n",
    "        \n",
    "        # MSE error\n",
    "        #err[k] = err[k] + 0.5 * np.sum((o - TrainData[785:,inx]) ** 2)\n",
    "        \n",
    "        # cross entropy\n",
    "        err[k] = err[k] + (-1.0) * np.sum(TrainData[785:,inx] * np.log(o + 10 ** -8))\n",
    "        \n",
    "        # backprop < ---\n",
    "        \n",
    "        # output layer\n",
    "        delta_1 = (-1.0) * (TrainData[785:,inx] - o) # (1, 10)\n",
    "        #delta_2 = sigmoid(o, derive=True) # (1, 10)\n",
    "        delta_2 = np.ones_like(delta_1) # cross entropy\n",
    "        \n",
    "        \n",
    "        # update the fully connected hidden layer\n",
    "        delta_hw = np.dot(h, delta_1 * delta_2)  # (22 * 22 * 16 + 1, 10)\n",
    "        \n",
    "        # update the convolutional kernel\n",
    "        delta_3 = relu(h, derive=True) # (22 * 22 * 16 + 1, 1)\n",
    "        delta_kw_tmp = np.sum(np.dot(delta_3, delta_1 * delta_2) * h1_w,axis=1)[:-1].reshape([(28 - kernel_size + 1),(28 - kernel_size + 1),kernel_num])\n",
    "        delta_kw = np.dot(np.transpose(C,axes=[2,0,1]).reshape([k_w.shape[0],-1]), delta_kw_tmp.reshape([-1,kernel_num]))\n",
    "\n",
    "        # mini-batch tmp value \n",
    "        h1_w_tmp = h1_w_tmp + (-1.0) * eta * delta_hw # (22 * 22 * 16 + 1, 10)\n",
    "        k_w_tmp = k_w_tmp + (-1.0) * eta * delta_kw # (7 * 7 + 1, 16)\n",
    "        \n",
    "        # update rule\n",
    "        if((k * TrainData.shape[1] + i) % mini_batch == 0):\n",
    "            h1_w = h1_w + h1_w_tmp / mini_batch\n",
    "            k_w = k_w + k_w_tmp / mini_batch\n",
    "            h1_w_tmp = np.zeros_like(h1_w_tmp)\n",
    "            k_w_tmp = np.zeros_like(k_w_tmp)\n",
    "\n",
    "    print('The ' + str(k+1) + ' epoch error is: ' + str(err[k]))\n",
    "    \n",
    "        \n",
    "# plot it        \n",
    "fig = plt.figure()\n",
    "plt.plot(err)\n",
    "plt.title('error plot')\n",
    "plt.xlabel('epoch')\n",
    "plt.ylabel('error value')\n",
    "plt.show()\n",
    "fig.savefig('conv_10.png', dpi=fig.dpi)"
   ]
  },
  {
   "cell_type": "markdown",
   "metadata": {},
   "source": [
    "---"
   ]
  },
  {
   "cell_type": "code",
   "execution_count": 10,
   "metadata": {},
   "outputs": [
    {
     "name": "stdout",
     "output_type": "stream",
     "text": [
      "60000 out of 60000 in the training set was labeled correctly\n"
     ]
    }
   ],
   "source": [
    "# Look at the training data\n",
    "train_acc = 0\n",
    "for i in range(TrainData.shape[1]):\n",
    "\n",
    "    # one image\n",
    "    img = np.reshape(TrainData[:28*28, i], [28, 28])\n",
    "    #imshow(img)\n",
    "    # forwards pass        \n",
    "    # transform matrix C\n",
    "    C = np.ones((28 - kernel_size + 1, 28 - kernel_size + 1, kernel_size * kernel_size))\n",
    "    for m in range(kernel_size):\n",
    "        for n in range(kernel_size):\n",
    "            C[:,:,m * kernel_size + n] = img[m:m+(28 - kernel_size + 1),n:n+(28 - kernel_size + 1)]\n",
    "    C=np.concatenate((C, np.ones([28 - kernel_size + 1, 28 - kernel_size + 1,1])),axis=2)\n",
    "\n",
    "    h = relu(np.dot(C, k_w)) # 22 x 22 x 16\n",
    "    #print(sum(sum(sum(h))))\n",
    "    \n",
    "    # hidden layer(s)\n",
    "    h = np.reshape(h, [(28 - kernel_size + 1)*(28 - kernel_size + 1)*(kernel_num), 1])\n",
    "    h = np.concatenate((h,np.asarray([[1]])),axis=0)\n",
    "    #o = sigmoid(np.dot(h.T, h1_w))\n",
    "    o = softmax(np.dot(h.T, h1_w))\n",
    "    oo = np.reshape(np.zeros([1,10]),[10,])\n",
    "    oo[np.argmax(o)] = 1\n",
    "        \n",
    "    #print(str(i) + \": produced: \" + str(o) + \" wanted \" + str(TrainData[785:,i]))\n",
    "    if(np.array_equal(TrainData[785:,i],oo)):\n",
    "        train_acc = train_acc + 1\n",
    "\n",
    "print(str(train_acc) + ' out of ' + str(TrainData.shape[1]) + ' in the training set was labeled correctly')\n",
    "    "
   ]
  },
  {
   "cell_type": "code",
   "execution_count": 11,
   "metadata": {},
   "outputs": [
    {
     "name": "stdout",
     "output_type": "stream",
     "text": [
      "9872 out of 10000 in the testing set was labeled correctly\n"
     ]
    }
   ],
   "source": [
    "# Look at the testing data\n",
    "test_acc = 0\n",
    "for i in range(TestData.shape[1]):\n",
    "\n",
    "    # one image\n",
    "    img = np.reshape(TestData[:28*28, i], [28, 28])\n",
    "    #imshow(img)\n",
    "    # forwards pass        \n",
    "    # transform matrix C\n",
    "    C = np.ones((28 - kernel_size + 1, 28 - kernel_size + 1, kernel_size * kernel_size))\n",
    "    for m in range(kernel_size):\n",
    "        for n in range(kernel_size):\n",
    "            C[:,:,m * kernel_size + n] = img[m:m+(28 - kernel_size + 1),n:n+(28 - kernel_size + 1)]\n",
    "    C=np.concatenate((C, np.ones([28 - kernel_size + 1, 28 - kernel_size + 1,1])),axis=2)\n",
    "\n",
    "    h = relu(np.dot(C, k_w)) # 22 x 22 x 16\n",
    "    #print(sum(sum(sum(h))))\n",
    "    \n",
    "    # hidden layer(s)\n",
    "    h = np.reshape(h, [(28 - kernel_size + 1)*(28 - kernel_size + 1)*(kernel_num), 1])\n",
    "    h = np.concatenate((h,np.asarray([[1]])),axis=0)\n",
    "    #o = sigmoid(np.dot(h.T, h1_w))\n",
    "    o = softmax(np.dot(h.T, h1_w))\n",
    "    oo = np.reshape(np.zeros([1,10]),[10,])\n",
    "    oo[np.argmax(o)] = 1\n",
    "        \n",
    "    #print(str(i) + \": produced: \" + str(oo) + \" wanted \" + str(TestData[785:,i]))\n",
    "    if(np.array_equal(TestData[785:,i],oo)):\n",
    "        test_acc = test_acc + 1\n",
    "\n",
    "print(str(test_acc) + ' out of ' + str(TestData.shape[1]) + ' in the testing set was labeled correctly')\n",
    "    "
   ]
  },
  {
   "cell_type": "code",
   "execution_count": 12,
   "metadata": {},
   "outputs": [
    {
     "data": {
      "image/png": "[encoded data removed]",
      "text/plain": [
       "<Figure size 720x432 with 16 Axes>"
      ]
     },
     "metadata": {},
     "output_type": "display_data"
    }
   ],
   "source": [
    "# look at the final kernel\n",
    "k_w_final = k_w[:-1,:].reshape([7,7,16])\n",
    "fig, ax = plt.subplots(nrows=4, ncols=4, figsize=(10,6))\n",
    "\n",
    "n=0;\n",
    "for row in ax:\n",
    "    for col in row:\n",
    "        col.imshow(k_w_final[:,:,n], cmap='gray')\n",
    "        n=n+1\n",
    "\n",
    "plt.show()"
   ]
  },
  {
   "cell_type": "markdown",
   "metadata": {},
   "source": [
    "---"
   ]
  },
  {
   "cell_type": "code",
   "execution_count": 40,
   "metadata": {},
   "outputs": [
    {
     "data": {
      "image/png": "[encoded data removed]",
      "text/plain": [
       "<Figure size 720x432 with 16 Axes>"
      ]
     },
     "metadata": {},
     "output_type": "display_data"
    }
   ],
   "source": [
    "# deconvolution\n",
    "selected_img = 17\n",
    "img = np.reshape(TrainData[:28*28, selected_img], [28, 28])\n",
    "recovered_img = np.zeros([28, 28, 16])\n",
    "\n",
    "C = np.ones((28 - kernel_size + 1, 28 - kernel_size + 1, kernel_size * kernel_size))\n",
    "for m in range(kernel_size):\n",
    "    for n in range(kernel_size):\n",
    "        C[:,:,m * kernel_size + n] = img[m:m+(28 - kernel_size + 1),n:n+(28 - kernel_size + 1)]\n",
    "C=np.concatenate((C, np.ones([28 - kernel_size + 1, 28 - kernel_size + 1,1])),axis=2)\n",
    "\n",
    "h = relu(np.dot(C, k_w)) # 22 x 22 x 16\n",
    "\n",
    "for i in range(kernel_num):\n",
    "    for m in range(kernel_size):\n",
    "        for n in range(kernel_size):\n",
    "            recovered_img[m:m+22, n:n+22, i] = recovered_img[m:m+22, n:n+22, i] + h[:,:,i] * C[:,:,m * kernel_size + n] / (kernel_size ** 2)\n",
    "\n",
    "\n",
    "# look at the de-convolution image\n",
    "fig, ax = plt.subplots(nrows=4, ncols=4, figsize=(10,6))\n",
    "\n",
    "n=0;\n",
    "for row in ax:\n",
    "    for col in row:\n",
    "        col.imshow(recovered_img[:,:,n])\n",
    "        n=n+1\n",
    "\n",
    "plt.show()"
   ]
  },
  {
   "cell_type": "code",
   "execution_count": 39,
   "metadata": {},
   "outputs": [
    {
     "data": {
      "image/png": "[encoded data removed]",
      "text/plain": [
       "<Figure size 432x288 with 1 Axes>"
      ]
     },
     "metadata": {},
     "output_type": "display_data"
    },
    {
     "name": "stdout",
     "output_type": "stream",
     "text": [
      "[0. 0. 0. 0. 0. 0. 0. 0. 1. 0.]\n"
     ]
    }
   ],
   "source": [
    "# random select a number to see if the image match the label\n",
    "random_num = 17\n",
    "imshow(TrainData[:,random_num])\n",
    "print(TrainData[785:,random_num])"
   ]
  },
  {
   "cell_type": "code",
   "execution_count": null,
   "metadata": {},
   "outputs": [],
   "source": []
  },
  {
   "cell_type": "code",
   "execution_count": null,
   "metadata": {},
   "outputs": [],
   "source": []
  },
  {
   "cell_type": "code",
   "execution_count": null,
   "metadata": {},
   "outputs": [],
   "source": []
  },
  {
   "cell_type": "code",
   "execution_count": null,
   "metadata": {},
   "outputs": [],
   "source": []
  },
  {
   "cell_type": "code",
   "execution_count": null,
   "metadata": {},
   "outputs": [],
   "source": []
  }
 ],
 "metadata": {
  "kernelspec": {
   "display_name": "Python 3",
   "language": "python",
   "name": "python3"
  },
  "language_info": {
   "codemirror_mode": {
    "name": "ipython",
    "version": 3
   },
   "file_extension": ".py",
   "mimetype": "text/x-python",
   "name": "python",
   "nbconvert_exporter": "python",
   "pygments_lexer": "ipython3",
   "version": "3.6.5"
  }
 },
 "nbformat": 4,
 "nbformat_minor": 2
}
